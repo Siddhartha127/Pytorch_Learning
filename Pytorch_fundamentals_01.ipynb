{
  "nbformat": 4,
  "nbformat_minor": 0,
  "metadata": {
    "colab": {
      "provenance": [],
      "mount_file_id": "1mmeLzffbx7rxqrp0yFAWdq7R0Uvi0Auo",
      "authorship_tag": "ABX9TyPCJklFVAwPcCYtMBv++eIY",
      "include_colab_link": true
    },
    "kernelspec": {
      "name": "python3",
      "display_name": "Python 3"
    },
    "language_info": {
      "name": "python"
    }
  },
  "cells": [
    {
      "cell_type": "markdown",
      "metadata": {
        "id": "view-in-github",
        "colab_type": "text"
      },
      "source": [
        "<a href=\"https://colab.research.google.com/github/Siddhartha127/Pytorch_Learning/blob/main/Pytorch_fundamentals_01.ipynb\" target=\"_parent\"><img src=\"https://colab.research.google.com/assets/colab-badge.svg\" alt=\"Open In Colab\"/></a>"
      ]
    },
    {
      "cell_type": "code",
      "execution_count": null,
      "metadata": {
        "id": "0543nW2DapBb"
      },
      "outputs": [],
      "source": []
    },
    {
      "cell_type": "code",
      "source": [
        "from google.colab import drive\n",
        "drive.mount('/content/drive')"
      ],
      "metadata": {
        "colab": {
          "base_uri": "https://localhost:8080/"
        },
        "id": "nHIVVXYubH5r",
        "outputId": "fac095d2-b35e-47ca-e101-c147b6ff1dba"
      },
      "execution_count": null,
      "outputs": [
        {
          "output_type": "stream",
          "name": "stdout",
          "text": [
            "Drive already mounted at /content/drive; to attempt to forcibly remount, call drive.mount(\"/content/drive\", force_remount=True).\n"
          ]
        }
      ]
    },
    {
      "cell_type": "code",
      "source": [
        "import torch\n",
        "import pandas as pd\n",
        "import numpy as np\n",
        "import matplotlib.pyplot as plt\n",
        "import time\n",
        "print(torch.__version__)"
      ],
      "metadata": {
        "id": "zyMAbuJ-bNuj",
        "colab": {
          "base_uri": "https://localhost:8080/"
        },
        "outputId": "d76a0668-3c76-4ae8-8a76-9ccf44a9ef69"
      },
      "execution_count": 2,
      "outputs": [
        {
          "output_type": "stream",
          "name": "stdout",
          "text": [
            "2.4.1+cu121\n"
          ]
        }
      ]
    },
    {
      "cell_type": "code",
      "source": [
        "!nvidia-smi"
      ],
      "metadata": {
        "colab": {
          "base_uri": "https://localhost:8080/"
        },
        "collapsed": true,
        "id": "9o7asmUd4Ice",
        "outputId": "d86be8f9-710b-41c6-dfa6-11dccf3e83fa"
      },
      "execution_count": null,
      "outputs": [
        {
          "output_type": "stream",
          "name": "stdout",
          "text": [
            "Fri Sep 20 19:22:19 2024       \n",
            "+---------------------------------------------------------------------------------------+\n",
            "| NVIDIA-SMI 535.104.05             Driver Version: 535.104.05   CUDA Version: 12.2     |\n",
            "|-----------------------------------------+----------------------+----------------------+\n",
            "| GPU  Name                 Persistence-M | Bus-Id        Disp.A | Volatile Uncorr. ECC |\n",
            "| Fan  Temp   Perf          Pwr:Usage/Cap |         Memory-Usage | GPU-Util  Compute M. |\n",
            "|                                         |                      |               MIG M. |\n",
            "|=========================================+======================+======================|\n",
            "|   0  Tesla T4                       Off | 00000000:00:04.0 Off |                    0 |\n",
            "| N/A   37C    P8               9W /  70W |      0MiB / 15360MiB |      0%      Default |\n",
            "|                                         |                      |                  N/A |\n",
            "+-----------------------------------------+----------------------+----------------------+\n",
            "                                                                                         \n",
            "+---------------------------------------------------------------------------------------+\n",
            "| Processes:                                                                            |\n",
            "|  GPU   GI   CI        PID   Type   Process name                            GPU Memory |\n",
            "|        ID   ID                                                             Usage      |\n",
            "|=======================================================================================|\n",
            "|  No running processes found                                                           |\n",
            "+---------------------------------------------------------------------------------------+\n"
          ]
        }
      ]
    },
    {
      "cell_type": "markdown",
      "source": [
        "#Tensors:\n",
        "Tensors are way to represent data specially\n",
        "multi demensional data\n",
        "\n",
        "1- Creating tensors: pytorch tensors are created using orch.tensor()"
      ],
      "metadata": {
        "id": "JQd4mA2s46Uh"
      }
    },
    {
      "cell_type": "code",
      "source": [
        "#Scalar\n",
        "scalar = torch.tensor(7)\n",
        "scalar\n"
      ],
      "metadata": {
        "colab": {
          "base_uri": "https://localhost:8080/"
        },
        "id": "5KTFlv3k4pBG",
        "outputId": "08fb9c11-dd1b-42be-bd87-8a9d17e47be4"
      },
      "execution_count": null,
      "outputs": [
        {
          "output_type": "execute_result",
          "data": {
            "text/plain": [
              "tensor(7)"
            ]
          },
          "metadata": {},
          "execution_count": 2
        }
      ]
    },
    {
      "cell_type": "code",
      "source": [
        "# a scalar has no dimenssions hence the output is 0\n",
        "scalar.ndim\n",
        "# scalar.item() : to convert it back to regular python integer"
      ],
      "metadata": {
        "colab": {
          "base_uri": "https://localhost:8080/"
        },
        "id": "oUjuG0SF5bN4",
        "outputId": "ce56d8bd-6f14-48d6-814f-4a94b9334644"
      },
      "execution_count": null,
      "outputs": [
        {
          "output_type": "execute_result",
          "data": {
            "text/plain": [
              "0"
            ]
          },
          "metadata": {},
          "execution_count": 3
        }
      ]
    },
    {
      "cell_type": "markdown",
      "source": [
        "vector: vector usually has 2 dimensions i.e magnitude and direction"
      ],
      "metadata": {
        "id": "AuL8Zt0T6dTJ"
      }
    },
    {
      "cell_type": "code",
      "source": [
        "#vector\n",
        "vec = torch.tensor([7,7])\n",
        "vec"
      ],
      "metadata": {
        "colab": {
          "base_uri": "https://localhost:8080/"
        },
        "id": "HtfFJYLY50Dw",
        "outputId": "77446602-70fc-4900-eb3f-da1121d29823"
      },
      "execution_count": null,
      "outputs": [
        {
          "output_type": "execute_result",
          "data": {
            "text/plain": [
              "tensor([7, 7])"
            ]
          },
          "metadata": {},
          "execution_count": 4
        }
      ]
    },
    {
      "cell_type": "code",
      "source": [
        "vec.ndim\n",
        "vec.shape"
      ],
      "metadata": {
        "colab": {
          "base_uri": "https://localhost:8080/"
        },
        "id": "hnrZ9I5d6ToG",
        "outputId": "44679180-5c66-456b-ae8f-db7778d27c43"
      },
      "execution_count": null,
      "outputs": [
        {
          "output_type": "execute_result",
          "data": {
            "text/plain": [
              "torch.Size([2])"
            ]
          },
          "metadata": {},
          "execution_count": 11
        }
      ]
    },
    {
      "cell_type": "markdown",
      "source": [
        "MATRIX\n"
      ],
      "metadata": {
        "id": "cEEDxewl62PR"
      }
    },
    {
      "cell_type": "code",
      "source": [
        "matrix = torch.tensor([[7,8],[9,10]])\n",
        "matrix"
      ],
      "metadata": {
        "colab": {
          "base_uri": "https://localhost:8080/"
        },
        "id": "SMv5LoFY6u6Q",
        "outputId": "6ee27729-b64d-4f90-e4cf-463a0e4f41e1"
      },
      "execution_count": null,
      "outputs": [
        {
          "output_type": "execute_result",
          "data": {
            "text/plain": [
              "tensor([[ 7,  8],\n",
              "        [ 9, 10]])"
            ]
          },
          "metadata": {},
          "execution_count": 5
        }
      ]
    },
    {
      "cell_type": "code",
      "source": [
        "matrix.ndim"
      ],
      "metadata": {
        "colab": {
          "base_uri": "https://localhost:8080/"
        },
        "id": "mmYyUfjV7DRH",
        "outputId": "ae34ffa1-6ff4-43e1-8014-beec298fda15"
      },
      "execution_count": null,
      "outputs": [
        {
          "output_type": "execute_result",
          "data": {
            "text/plain": [
              "2"
            ]
          },
          "metadata": {},
          "execution_count": 15
        }
      ]
    },
    {
      "cell_type": "code",
      "source": [
        "matrix.shape"
      ],
      "metadata": {
        "colab": {
          "base_uri": "https://localhost:8080/"
        },
        "id": "Uc65tZD97Hb2",
        "outputId": "a87d9c01-3f72-4b12-efa5-be7efaef2ab6"
      },
      "execution_count": null,
      "outputs": [
        {
          "output_type": "execute_result",
          "data": {
            "text/plain": [
              "torch.Size([2, 2])"
            ]
          },
          "metadata": {},
          "execution_count": 17
        }
      ]
    },
    {
      "cell_type": "markdown",
      "source": [
        "Tensors\n"
      ],
      "metadata": {
        "id": "52yzPmuO7dQq"
      }
    },
    {
      "cell_type": "code",
      "source": [
        "Tensor = torch.tensor([[[1,2,3],\n",
        "                        [4,5,6],\n",
        "                        [7,8,9]]])\n",
        "Tensor"
      ],
      "metadata": {
        "colab": {
          "base_uri": "https://localhost:8080/"
        },
        "id": "VJG4M1RM7LHQ",
        "outputId": "ee8a39b3-d4f2-4bc2-8a36-6afbbd5787b5"
      },
      "execution_count": null,
      "outputs": [
        {
          "output_type": "execute_result",
          "data": {
            "text/plain": [
              "tensor([[[1, 2, 3],\n",
              "         [4, 5, 6],\n",
              "         [7, 8, 9]]])"
            ]
          },
          "metadata": {},
          "execution_count": 6
        }
      ]
    },
    {
      "cell_type": "code",
      "source": [
        "Tensor.ndim"
      ],
      "metadata": {
        "colab": {
          "base_uri": "https://localhost:8080/"
        },
        "id": "CA_Zxaqy7yIM",
        "outputId": "9fccc3b2-23ee-4de7-9141-02c17554c523"
      },
      "execution_count": null,
      "outputs": [
        {
          "output_type": "execute_result",
          "data": {
            "text/plain": [
              "3"
            ]
          },
          "metadata": {},
          "execution_count": 20
        }
      ]
    },
    {
      "cell_type": "code",
      "source": [
        "Tensor.shape"
      ],
      "metadata": {
        "colab": {
          "base_uri": "https://localhost:8080/"
        },
        "id": "O9VixEpG7-G2",
        "outputId": "ea98281b-8bb0-4273-e936-d13c186f7276"
      },
      "execution_count": null,
      "outputs": [
        {
          "output_type": "execute_result",
          "data": {
            "text/plain": [
              "torch.Size([1, 3, 3])"
            ]
          },
          "metadata": {},
          "execution_count": 21
        }
      ]
    },
    {
      "cell_type": "markdown",
      "source": [
        "### Random Tensors\n",
        "\n",
        "Random tensors are important because the way many neural network learn is that taey start with tensors full of random numbers and then adjust thost random numbers to better represent data\n",
        "\n",
        "\n",
        "start with random numberes-> look at data ->update random numbers -> look at data ->update random numbers"
      ],
      "metadata": {
        "id": "TF5eFcmy9TTS"
      }
    },
    {
      "cell_type": "code",
      "source": [
        "#creating a random tensor of size(3,4)\n",
        "random_tensor = torch.rand(3,4)\n",
        "random_tensor"
      ],
      "metadata": {
        "colab": {
          "base_uri": "https://localhost:8080/"
        },
        "id": "zEBHm5a68Bo3",
        "outputId": "a5542938-dfa2-4db8-fd57-62710bc85c58"
      },
      "execution_count": null,
      "outputs": [
        {
          "output_type": "execute_result",
          "data": {
            "text/plain": [
              "tensor([[0.1267, 0.6755, 0.9645, 0.1608],\n",
              "        [0.9031, 0.2065, 0.4251, 0.8267],\n",
              "        [0.3433, 0.2567, 0.1279, 0.9464]])"
            ]
          },
          "metadata": {},
          "execution_count": 11
        }
      ]
    },
    {
      "cell_type": "code",
      "source": [
        "random_tensor.ndim"
      ],
      "metadata": {
        "colab": {
          "base_uri": "https://localhost:8080/"
        },
        "id": "PcnvVzvG-DCT",
        "outputId": "1fc05c2b-96e7-4496-cdaf-9240cca0e180"
      },
      "execution_count": null,
      "outputs": [
        {
          "output_type": "execute_result",
          "data": {
            "text/plain": [
              "2"
            ]
          },
          "metadata": {},
          "execution_count": 24
        }
      ]
    },
    {
      "cell_type": "code",
      "source": [
        "#creating a random tensor with similar shape to an image tensor\n",
        "random_image_size_tensor = torch.rand(size=(3,224,224)) # height,width and color channels (R,G,B)\n",
        "random_image_size_tensor.shape , random_image_size_tensor.ndim"
      ],
      "metadata": {
        "id": "zSCfnLg7-QbY",
        "colab": {
          "base_uri": "https://localhost:8080/"
        },
        "outputId": "abea1883-3aa8-4d90-bcea-33b540e5d955"
      },
      "execution_count": null,
      "outputs": [
        {
          "output_type": "execute_result",
          "data": {
            "text/plain": [
              "(torch.Size([3, 224, 224]), 3)"
            ]
          },
          "metadata": {},
          "execution_count": 8
        }
      ]
    },
    {
      "cell_type": "markdown",
      "source": [
        "### **Zeros and Ones**"
      ],
      "metadata": {
        "id": "1rHk1IMFHcM_"
      }
    },
    {
      "cell_type": "code",
      "source": [
        "# create a tensors of all zeros\n",
        "zeros = torch.zeros(size=(3,4))\n",
        "zeros"
      ],
      "metadata": {
        "colab": {
          "base_uri": "https://localhost:8080/"
        },
        "id": "lNLDoZTGG9vW",
        "outputId": "1359ae9b-a0fd-4e01-8935-118082f122db"
      },
      "execution_count": null,
      "outputs": [
        {
          "output_type": "execute_result",
          "data": {
            "text/plain": [
              "tensor([[0., 0., 0., 0.],\n",
              "        [0., 0., 0., 0.],\n",
              "        [0., 0., 0., 0.]])"
            ]
          },
          "metadata": {},
          "execution_count": 9
        }
      ]
    },
    {
      "cell_type": "code",
      "source": [
        "zeros*random_tensor"
      ],
      "metadata": {
        "colab": {
          "base_uri": "https://localhost:8080/"
        },
        "id": "ZDzahtN0HpRG",
        "outputId": "cbce65ab-323f-4eec-95a8-d522e1ba4d5a"
      },
      "execution_count": null,
      "outputs": [
        {
          "output_type": "execute_result",
          "data": {
            "text/plain": [
              "tensor([[0., 0., 0., 0.],\n",
              "        [0., 0., 0., 0.],\n",
              "        [0., 0., 0., 0.]])"
            ]
          },
          "metadata": {},
          "execution_count": 12
        }
      ]
    },
    {
      "cell_type": "code",
      "source": [
        "# create a tensors of all Ones\n",
        "Ones = torch.ones(size=(3,4))\n",
        "Ones"
      ],
      "metadata": {
        "colab": {
          "base_uri": "https://localhost:8080/"
        },
        "id": "LoGuZpZcHsj1",
        "outputId": "c297f5ed-a005-472d-d9fc-25d04606234d"
      },
      "execution_count": null,
      "outputs": [
        {
          "output_type": "execute_result",
          "data": {
            "text/plain": [
              "tensor([[1., 1., 1., 1.],\n",
              "        [1., 1., 1., 1.],\n",
              "        [1., 1., 1., 1.]])"
            ]
          },
          "metadata": {},
          "execution_count": 17
        }
      ]
    },
    {
      "cell_type": "code",
      "source": [
        "# default data type is float\n",
        "Ones.dtype"
      ],
      "metadata": {
        "colab": {
          "base_uri": "https://localhost:8080/"
        },
        "id": "6G4zf6F_H8XQ",
        "outputId": "28c4db10-9668-4929-a46f-3c1d57002259"
      },
      "execution_count": null,
      "outputs": [
        {
          "output_type": "execute_result",
          "data": {
            "text/plain": [
              "torch.float32"
            ]
          },
          "metadata": {},
          "execution_count": 19
        }
      ]
    },
    {
      "cell_type": "markdown",
      "source": [
        "### Creating a range of tensors and tensors-like"
      ],
      "metadata": {
        "id": "2dRkdVDTIgIF"
      }
    },
    {
      "cell_type": "code",
      "source": [
        "one_to_ten= torch.arange(1,10)\n",
        "one_to_ten"
      ],
      "metadata": {
        "colab": {
          "base_uri": "https://localhost:8080/"
        },
        "id": "KBU39eP6ILQ1",
        "outputId": "3f37054b-0328-484e-eb5c-ccba25c92864"
      },
      "execution_count": null,
      "outputs": [
        {
          "output_type": "execute_result",
          "data": {
            "text/plain": [
              "tensor([1, 2, 3, 4, 5, 6, 7, 8, 9])"
            ]
          },
          "metadata": {},
          "execution_count": 24
        }
      ]
    },
    {
      "cell_type": "code",
      "source": [
        "tensor_range = torch.arange(start=0,end=1000,step=20)\n",
        "tensor_range"
      ],
      "metadata": {
        "colab": {
          "base_uri": "https://localhost:8080/"
        },
        "id": "lZ9CYB-fIfLB",
        "outputId": "c9069b2e-ccc8-4134-bda7-8abcd93ca738"
      },
      "execution_count": null,
      "outputs": [
        {
          "output_type": "execute_result",
          "data": {
            "text/plain": [
              "tensor([  0,  20,  40,  60,  80, 100, 120, 140, 160, 180, 200, 220, 240, 260,\n",
              "        280, 300, 320, 340, 360, 380, 400, 420, 440, 460, 480, 500, 520, 540,\n",
              "        560, 580, 600, 620, 640, 660, 680, 700, 720, 740, 760, 780, 800, 820,\n",
              "        840, 860, 880, 900, 920, 940, 960, 980])"
            ]
          },
          "metadata": {},
          "execution_count": 25
        }
      ]
    },
    {
      "cell_type": "code",
      "source": [
        "# Creating a tensors-like\n",
        "# you want to replicate the shape of a tensor but do not want to define the shape\n",
        "ten_zeros = torch.zeros_like(input=one_to_ten)\n",
        "ten_zeros"
      ],
      "metadata": {
        "colab": {
          "base_uri": "https://localhost:8080/"
        },
        "id": "VzAV7Un-JC-4",
        "outputId": "5ab83164-8bb6-4327-b92c-e5900b971eb6"
      },
      "execution_count": null,
      "outputs": [
        {
          "output_type": "execute_result",
          "data": {
            "text/plain": [
              "tensor([0, 0, 0, 0, 0, 0, 0, 0, 0])"
            ]
          },
          "metadata": {},
          "execution_count": 26
        }
      ]
    },
    {
      "cell_type": "markdown",
      "source": [
        "### Tensor DataTypes\n",
        "NOTE: Tensors Datatype is one of the 3 big errors you'll run with PyTorch & deep Learning:\n",
        "\n",
        "\n",
        "1.   Tensors not right datatype.\n",
        "2.   Tensors not right shape.\n",
        "3.    Tensors not on the right device.\n",
        "\n",
        "\n"
      ],
      "metadata": {
        "id": "LttDtbFJJxEN"
      }
    },
    {
      "cell_type": "code",
      "source": [
        "#Float 32 tensor\n",
        "float_32_tensor = torch.tensor([3.0,6.0,9.0],\n",
        "                               dtype=None, # what is the data type of tensor\n",
        "                               device=None, #cpu or cuda\n",
        "                               requires_grad=False)  ## whether or not to track gradients\n",
        "float_32_tensor"
      ],
      "metadata": {
        "colab": {
          "base_uri": "https://localhost:8080/"
        },
        "id": "H-Dn6QZbJ09M",
        "outputId": "56d1dfac-5c5c-4689-b4e5-9ad1af58c95f"
      },
      "execution_count": null,
      "outputs": [
        {
          "output_type": "execute_result",
          "data": {
            "text/plain": [
              "tensor([3., 6., 9.])"
            ]
          },
          "metadata": {},
          "execution_count": 35
        }
      ]
    },
    {
      "cell_type": "code",
      "source": [
        "#because the default data type is float\n",
        "float_32_tensor.dtype"
      ],
      "metadata": {
        "colab": {
          "base_uri": "https://localhost:8080/"
        },
        "id": "5bU8c0LUKCAH",
        "outputId": "26f92a75-6e4d-4ae6-ead7-eee3d03b6d70"
      },
      "execution_count": null,
      "outputs": [
        {
          "output_type": "execute_result",
          "data": {
            "text/plain": [
              "torch.float32"
            ]
          },
          "metadata": {},
          "execution_count": 29
        }
      ]
    },
    {
      "cell_type": "code",
      "source": [
        "#Float 32 tensor\n",
        "float_16_tensor = torch.tensor([3.0,6.0,9.0],\n",
        "                               dtype=torch.float16)"
      ],
      "metadata": {
        "id": "zVAKXNUlKG0i"
      },
      "execution_count": null,
      "outputs": []
    },
    {
      "cell_type": "code",
      "source": [
        "float_16_tensor.dtype"
      ],
      "metadata": {
        "colab": {
          "base_uri": "https://localhost:8080/"
        },
        "id": "MmnQW2NzKUzc",
        "outputId": "15f6cdc0-f70b-4392-d098-50060bff0613"
      },
      "execution_count": null,
      "outputs": [
        {
          "output_type": "execute_result",
          "data": {
            "text/plain": [
              "torch.float16"
            ]
          },
          "metadata": {},
          "execution_count": 32
        }
      ]
    },
    {
      "cell_type": "code",
      "source": [
        "#convert float 32 to float 16\n",
        "float_32to_16_tensor = float_32_tensor.type(torch.float16)\n",
        "float_32to_16_tensor.dtype\n"
      ],
      "metadata": {
        "colab": {
          "base_uri": "https://localhost:8080/"
        },
        "id": "27ys0qkwKcQP",
        "outputId": "2581cb3b-0293-422a-d66b-65afdb3baef0"
      },
      "execution_count": null,
      "outputs": [
        {
          "output_type": "execute_result",
          "data": {
            "text/plain": [
              "torch.float16"
            ]
          },
          "metadata": {},
          "execution_count": 42
        }
      ]
    },
    {
      "cell_type": "code",
      "source": [
        "x = float_32to_16_tensor * float_32_tensor"
      ],
      "metadata": {
        "id": "rUGm8floNXZJ"
      },
      "execution_count": null,
      "outputs": []
    },
    {
      "cell_type": "code",
      "source": [
        "x.dtype\n"
      ],
      "metadata": {
        "colab": {
          "base_uri": "https://localhost:8080/"
        },
        "id": "ryIU7nSbPM2u",
        "outputId": "45d5bf87-f32e-44b1-c6b6-e4d1cd77e4b1"
      },
      "execution_count": null,
      "outputs": [
        {
          "output_type": "execute_result",
          "data": {
            "text/plain": [
              "torch.float32"
            ]
          },
          "metadata": {},
          "execution_count": 41
        }
      ]
    },
    {
      "cell_type": "markdown",
      "source": [
        "### Getting info from tensors\n",
        "\n",
        "1.   Tensors not right datatype - to get datatype use tensor.dtype\n",
        "2.   Tensors not right shape - to get shape use tensor.shape\n",
        "3.    Tensors not on the right device to get device use tensor.device"
      ],
      "metadata": {
        "id": "WJS4ZCS6CL5L"
      }
    },
    {
      "cell_type": "code",
      "source": [
        "some_tensor = torch.rand(3,4)\n",
        "some_tensor"
      ],
      "metadata": {
        "id": "N8CyCKVIPQuN",
        "colab": {
          "base_uri": "https://localhost:8080/"
        },
        "outputId": "b2f7d58b-7ca7-46f1-e646-f09f6e83b8d9"
      },
      "execution_count": null,
      "outputs": [
        {
          "output_type": "execute_result",
          "data": {
            "text/plain": [
              "tensor([[0.6775, 0.5797, 0.3100, 0.6094],\n",
              "        [0.5159, 0.4162, 0.2489, 0.4573],\n",
              "        [0.6583, 0.0273, 0.0886, 0.3031]])"
            ]
          },
          "metadata": {},
          "execution_count": 3
        }
      ]
    },
    {
      "cell_type": "code",
      "source": [
        "#find out details about tensor\n",
        "print(some_tensor)\n",
        "print(f\"Datatype : {some_tensor.dtype}\")\n",
        "print(f\"Shape : {some_tensor.shape}\")\n",
        "print(f\"Device : {some_tensor.device}\")"
      ],
      "metadata": {
        "colab": {
          "base_uri": "https://localhost:8080/"
        },
        "id": "nPnclyGbCuVu",
        "outputId": "0235884b-99c8-4b83-e43a-d85ae62f5bb3"
      },
      "execution_count": null,
      "outputs": [
        {
          "output_type": "stream",
          "name": "stdout",
          "text": [
            "tensor([[0.6775, 0.5797, 0.3100, 0.6094],\n",
            "        [0.5159, 0.4162, 0.2489, 0.4573],\n",
            "        [0.6583, 0.0273, 0.0886, 0.3031]])\n",
            "Datatype : torch.float32\n",
            "Shape : torch.Size([3, 4])\n",
            "Device : cpu\n"
          ]
        }
      ]
    },
    {
      "cell_type": "markdown",
      "source": [
        "\n",
        "### Manipulating Tensors(tensor operations)\n",
        "\n",
        "\n",
        "\n",
        "1.   Addition\n",
        "2.   Substraction\n",
        "3.   Multiplication(element wise)\n",
        "4.   Division\n",
        "5.   Matrix multiplication\n",
        "\n"
      ],
      "metadata": {
        "id": "CFFcOMlNDnQb"
      }
    },
    {
      "cell_type": "code",
      "source": [
        "#create a tensor and add 10\n",
        "tensor = torch.tensor([1,2,3])\n",
        "tensor+10\n"
      ],
      "metadata": {
        "colab": {
          "base_uri": "https://localhost:8080/"
        },
        "id": "UyLfB2JWDLCK",
        "outputId": "8d9f9685-9f57-4d0c-ffcd-51fac9f9a4d6"
      },
      "execution_count": null,
      "outputs": [
        {
          "output_type": "execute_result",
          "data": {
            "text/plain": [
              "tensor([11, 12, 13])"
            ]
          },
          "metadata": {},
          "execution_count": 8
        }
      ]
    },
    {
      "cell_type": "code",
      "source": [
        "#multiply tensor by 10\n",
        "tensor * 10"
      ],
      "metadata": {
        "colab": {
          "base_uri": "https://localhost:8080/"
        },
        "id": "zpDOuBP5EWpO",
        "outputId": "567e7d16-4a58-4e01-f01f-f38f492494fe"
      },
      "execution_count": null,
      "outputs": [
        {
          "output_type": "execute_result",
          "data": {
            "text/plain": [
              "tensor([10, 20, 30])"
            ]
          },
          "metadata": {},
          "execution_count": 12
        }
      ]
    },
    {
      "cell_type": "code",
      "source": [
        "#Try out Pytorch in-built functions\n",
        "torch.mul(tensor,10)"
      ],
      "metadata": {
        "colab": {
          "base_uri": "https://localhost:8080/"
        },
        "id": "J77xKHkWEkfR",
        "outputId": "e1fe9178-78a2-41f7-b171-a7c356a96412"
      },
      "execution_count": null,
      "outputs": [
        {
          "output_type": "execute_result",
          "data": {
            "text/plain": [
              "tensor([10, 20, 30])"
            ]
          },
          "metadata": {},
          "execution_count": 13
        }
      ]
    },
    {
      "cell_type": "code",
      "source": [
        "tensor"
      ],
      "metadata": {
        "colab": {
          "base_uri": "https://localhost:8080/"
        },
        "id": "MZ_gHAIQFHry",
        "outputId": "e08ee12e-89c0-4339-86e4-3ffd14ef7bed"
      },
      "execution_count": null,
      "outputs": [
        {
          "output_type": "execute_result",
          "data": {
            "text/plain": [
              "tensor([1, 2, 3])"
            ]
          },
          "metadata": {},
          "execution_count": 14
        }
      ]
    },
    {
      "cell_type": "code",
      "source": [
        "start_time = time.time()\n",
        "torch.matmul(tensor, tensor)\n",
        "end_time = time.time()\n",
        "print(f\"Time taken: {end_time - start_time} seconds\")"
      ],
      "metadata": {
        "colab": {
          "base_uri": "https://localhost:8080/"
        },
        "id": "APTE0klPHPLz",
        "outputId": "651f237d-c7f4-493c-acb4-9c63cc9a8bd8"
      },
      "execution_count": null,
      "outputs": [
        {
          "output_type": "stream",
          "name": "stdout",
          "text": [
            "Time taken: 0.00023651123046875 seconds\n"
          ]
        }
      ]
    },
    {
      "cell_type": "code",
      "source": [
        "\n",
        "# inner dimensions must match\n",
        "\n",
        "torch.matmul( torch.rand(3,2) , torch.rand(2,5) ), torch.matmul( torch.rand(3,2) , torch.rand(2,5) ).shape"
      ],
      "metadata": {
        "colab": {
          "base_uri": "https://localhost:8080/"
        },
        "id": "BCqejdYnHWuQ",
        "outputId": "5a13d5d9-e873-405b-9751-710156cadcad"
      },
      "execution_count": null,
      "outputs": [
        {
          "output_type": "execute_result",
          "data": {
            "text/plain": [
              "(tensor([[0.4209, 0.4450, 0.2562, 0.7164, 0.5400],\n",
              "         [0.2500, 0.2349, 0.0724, 0.4614, 0.4002],\n",
              "         [0.5611, 0.5784, 0.3014, 0.9731, 0.7598]]),\n",
              " torch.Size([3, 5]))"
            ]
          },
          "metadata": {},
          "execution_count": 25
        }
      ]
    },
    {
      "cell_type": "markdown",
      "source": [
        "### Transposing a Tensor\n",
        "To fix a tensor shape issue we can manipulate the shape of one of our tensors using a transpose\n",
        "\n",
        "A transpose switches the axes or dimensions of a given tensor"
      ],
      "metadata": {
        "id": "ZjllTBBWYHdy"
      }
    },
    {
      "cell_type": "code",
      "source": [
        "tensor_A= torch.rand(3,2)\n",
        "tensor_A"
      ],
      "metadata": {
        "colab": {
          "base_uri": "https://localhost:8080/"
        },
        "id": "Oq3PVE0GYIiH",
        "outputId": "d7412bb3-0973-42c1-d871-5674a4668385"
      },
      "execution_count": null,
      "outputs": [
        {
          "output_type": "execute_result",
          "data": {
            "text/plain": [
              "tensor([[0.6583, 0.5062],\n",
              "        [0.5663, 0.6794],\n",
              "        [0.6680, 0.5892]])"
            ]
          },
          "metadata": {},
          "execution_count": 27
        }
      ]
    },
    {
      "cell_type": "code",
      "source": [
        "tensor_B= torch.rand(3,2)\n",
        "tensor_B"
      ],
      "metadata": {
        "colab": {
          "base_uri": "https://localhost:8080/"
        },
        "id": "O7c9jj2SYyTb",
        "outputId": "b4a88ac8-88b6-47e2-8288-20a68716d5c0"
      },
      "execution_count": null,
      "outputs": [
        {
          "output_type": "execute_result",
          "data": {
            "text/plain": [
              "tensor([[0.2283, 0.0397],\n",
              "        [0.5094, 0.0593],\n",
              "        [0.3118, 0.5143]])"
            ]
          },
          "metadata": {},
          "execution_count": 28
        }
      ]
    },
    {
      "cell_type": "code",
      "source": [
        "tensor_B.T"
      ],
      "metadata": {
        "colab": {
          "base_uri": "https://localhost:8080/"
        },
        "id": "7EWdmGFOY6d7",
        "outputId": "f2cb0da0-908a-455d-bf4e-ea22c6dfa90b"
      },
      "execution_count": null,
      "outputs": [
        {
          "output_type": "execute_result",
          "data": {
            "text/plain": [
              "tensor([[0.2283, 0.5094, 0.3118],\n",
              "        [0.0397, 0.0593, 0.5143]])"
            ]
          },
          "metadata": {},
          "execution_count": 29
        }
      ]
    },
    {
      "cell_type": "code",
      "source": [
        "tensor_B.T.shape"
      ],
      "metadata": {
        "colab": {
          "base_uri": "https://localhost:8080/"
        },
        "id": "hVWKGu0pY-kf",
        "outputId": "2c25e371-6805-4677-dd74-e718984686fd"
      },
      "execution_count": null,
      "outputs": [
        {
          "output_type": "execute_result",
          "data": {
            "text/plain": [
              "torch.Size([2, 3])"
            ]
          },
          "metadata": {},
          "execution_count": 30
        }
      ]
    },
    {
      "cell_type": "code",
      "source": [
        "torch.matmul(tensor_A,tensor_B.T)"
      ],
      "metadata": {
        "colab": {
          "base_uri": "https://localhost:8080/"
        },
        "id": "4Ia0eLzOZKho",
        "outputId": "176ff8b9-fa9e-41b1-e55a-d58c68c0924b"
      },
      "execution_count": null,
      "outputs": [
        {
          "output_type": "execute_result",
          "data": {
            "text/plain": [
              "tensor([[0.1704, 0.3654, 0.4656],\n",
              "        [0.1563, 0.3288, 0.5260],\n",
              "        [0.1759, 0.3752, 0.5113]])"
            ]
          },
          "metadata": {},
          "execution_count": 31
        }
      ]
    },
    {
      "cell_type": "code",
      "source": [
        "tens = torch.rand(3,4,5)\n",
        "tens"
      ],
      "metadata": {
        "colab": {
          "base_uri": "https://localhost:8080/"
        },
        "id": "hhDdiZrQZb0c",
        "outputId": "e91dbda4-3e94-49ac-9ce5-1da29d56cef4"
      },
      "execution_count": null,
      "outputs": [
        {
          "output_type": "execute_result",
          "data": {
            "text/plain": [
              "tensor([[[0.7514, 0.6448, 0.6636, 0.9525, 0.9267],\n",
              "         [0.8813, 0.2477, 0.6426, 0.7720, 0.0343],\n",
              "         [0.7661, 0.1785, 0.8585, 0.1549, 0.4043],\n",
              "         [0.4381, 0.3071, 0.7944, 0.3508, 0.9028]],\n",
              "\n",
              "        [[0.3773, 0.0651, 0.7318, 0.0691, 0.7617],\n",
              "         [0.9641, 0.5608, 0.1599, 0.3073, 0.1616],\n",
              "         [0.2002, 0.4900, 0.5116, 0.9100, 0.2128],\n",
              "         [0.5256, 0.2435, 0.1117, 0.7197, 0.4962]],\n",
              "\n",
              "        [[0.5905, 0.1123, 0.5006, 0.0105, 0.8524],\n",
              "         [0.3161, 0.4773, 0.8654, 0.7653, 0.0951],\n",
              "         [0.9043, 0.1975, 0.1592, 0.7789, 0.6345],\n",
              "         [0.0164, 0.4417, 0.3875, 0.5722, 0.4692]]])"
            ]
          },
          "metadata": {},
          "execution_count": 32
        }
      ]
    },
    {
      "cell_type": "code",
      "source": [
        "tens.mT.shape# For multiple dimensional tensors"
      ],
      "metadata": {
        "colab": {
          "base_uri": "https://localhost:8080/"
        },
        "id": "4JLg5cW8aObb",
        "outputId": "a5a63c02-b9c6-45c3-c447-fb0af189b1ef"
      },
      "execution_count": null,
      "outputs": [
        {
          "output_type": "execute_result",
          "data": {
            "text/plain": [
              "torch.Size([3, 5, 4])"
            ]
          },
          "metadata": {},
          "execution_count": 37
        }
      ]
    },
    {
      "cell_type": "markdown",
      "source": [
        "### Finding the min, max,mean,sum etc(tensor aggregation)"
      ],
      "metadata": {
        "id": "2QicRbS3Sv8W"
      }
    },
    {
      "cell_type": "code",
      "source": [
        "# create a tensor\n",
        "x= torch.arange(1,100,10)\n",
        "x"
      ],
      "metadata": {
        "colab": {
          "base_uri": "https://localhost:8080/"
        },
        "id": "XEB2wboRSM4f",
        "outputId": "c7921188-2526-4517-a020-799953f5033c"
      },
      "execution_count": 16,
      "outputs": [
        {
          "output_type": "execute_result",
          "data": {
            "text/plain": [
              "tensor([ 1, 11, 21, 31, 41, 51, 61, 71, 81, 91])"
            ]
          },
          "metadata": {},
          "execution_count": 16
        }
      ]
    },
    {
      "cell_type": "code",
      "source": [
        "#find min\n",
        "torch.min(x),x.min()"
      ],
      "metadata": {
        "colab": {
          "base_uri": "https://localhost:8080/"
        },
        "id": "uMoM9uzZT1uC",
        "outputId": "cf06d29a-adda-4a4d-d698-6ad7a2c15251"
      },
      "execution_count": 17,
      "outputs": [
        {
          "output_type": "execute_result",
          "data": {
            "text/plain": [
              "(tensor(1), tensor(1))"
            ]
          },
          "metadata": {},
          "execution_count": 17
        }
      ]
    },
    {
      "cell_type": "code",
      "source": [
        "#find min\n",
        "torch.max(x),x.max()"
      ],
      "metadata": {
        "colab": {
          "base_uri": "https://localhost:8080/"
        },
        "id": "fO1oPsN4UNWK",
        "outputId": "55a679f3-994c-40d9-e292-06211ab51da5"
      },
      "execution_count": 18,
      "outputs": [
        {
          "output_type": "execute_result",
          "data": {
            "text/plain": [
              "(tensor(91), tensor(91))"
            ]
          },
          "metadata": {},
          "execution_count": 18
        }
      ]
    },
    {
      "cell_type": "code",
      "source": [
        "x.dtype"
      ],
      "metadata": {
        "colab": {
          "base_uri": "https://localhost:8080/"
        },
        "id": "q0D-Fh1vUQyY",
        "outputId": "9f1d6f15-47ce-41e4-ba96-15104c8d5ba0"
      },
      "execution_count": 19,
      "outputs": [
        {
          "output_type": "execute_result",
          "data": {
            "text/plain": [
              "torch.int64"
            ]
          },
          "metadata": {},
          "execution_count": 19
        }
      ]
    },
    {
      "cell_type": "code",
      "source": [
        "# mmean function works with float 32 data type\n",
        "torch.mean(x.type(torch.float32))"
      ],
      "metadata": {
        "colab": {
          "base_uri": "https://localhost:8080/"
        },
        "id": "Q7hJMZxiUWvG",
        "outputId": "811a186b-ae13-4d95-b1a3-e9611dcf90e9"
      },
      "execution_count": 20,
      "outputs": [
        {
          "output_type": "execute_result",
          "data": {
            "text/plain": [
              "tensor(46.)"
            ]
          },
          "metadata": {},
          "execution_count": 20
        }
      ]
    },
    {
      "cell_type": "code",
      "source": [
        "x.type(torch.float32).mean()"
      ],
      "metadata": {
        "colab": {
          "base_uri": "https://localhost:8080/"
        },
        "id": "wj8vg5IyUxec",
        "outputId": "0910d3c5-e0ee-42f9-c2e3-ca0991e1e61a"
      },
      "execution_count": 21,
      "outputs": [
        {
          "output_type": "execute_result",
          "data": {
            "text/plain": [
              "tensor(46.)"
            ]
          },
          "metadata": {},
          "execution_count": 21
        }
      ]
    },
    {
      "cell_type": "code",
      "source": [
        "#find sum\n",
        "torch.sum(x), x.sum()\n"
      ],
      "metadata": {
        "colab": {
          "base_uri": "https://localhost:8080/"
        },
        "id": "Ppnh-uzWU4LL",
        "outputId": "34362742-ed9e-4f16-85ba-f6bc612cefea"
      },
      "execution_count": 22,
      "outputs": [
        {
          "output_type": "execute_result",
          "data": {
            "text/plain": [
              "(tensor(460), tensor(460))"
            ]
          },
          "metadata": {},
          "execution_count": 22
        }
      ]
    },
    {
      "cell_type": "markdown",
      "source": [
        "### Finding the positional min and max (arg min, argmax)"
      ],
      "metadata": {
        "id": "QQ99lWjpVMO3"
      }
    },
    {
      "cell_type": "code",
      "source": [
        "# position in tensor thst has the minimum value\n",
        "x.argmin()"
      ],
      "metadata": {
        "colab": {
          "base_uri": "https://localhost:8080/"
        },
        "id": "DnDywF3AVCnO",
        "outputId": "b4c8ca12-419a-4ef4-f54d-ae05187ce00b"
      },
      "execution_count": 23,
      "outputs": [
        {
          "output_type": "execute_result",
          "data": {
            "text/plain": [
              "tensor(0)"
            ]
          },
          "metadata": {},
          "execution_count": 23
        }
      ]
    },
    {
      "cell_type": "code",
      "source": [
        "# position in tensor thst has the maximum value\n",
        "x.argmax()"
      ],
      "metadata": {
        "colab": {
          "base_uri": "https://localhost:8080/"
        },
        "id": "H2i5ye0wVWwD",
        "outputId": "dce3168c-ac9c-482e-9110-75161ccbd2d0"
      },
      "execution_count": 25,
      "outputs": [
        {
          "output_type": "execute_result",
          "data": {
            "text/plain": [
              "tensor(9)"
            ]
          },
          "metadata": {},
          "execution_count": 25
        }
      ]
    },
    {
      "cell_type": "code",
      "source": [],
      "metadata": {
        "id": "pm-6zo8bXOlm"
      },
      "execution_count": null,
      "outputs": []
    },
    {
      "cell_type": "markdown",
      "source": [
        "### Reshape, stacking, squeezing and unsqueezing tensors\n",
        "\n",
        "\n",
        "\n",
        "\n",
        "\n",
        "\n",
        "\n",
        "\n",
        "*   Reshaping - reshapes tensor into another defined shape\n",
        "*   View - return a view of an input tensor of certain shape but keep the same memory of the original tensor (If the values in view are changed, the original tensors value will also be changed, but the shape remains.)\n",
        "*   Stack - stacking tensors on top of each other or side by side\n",
        "*   Squeeze - removes all 1 dimension tensors from a tensor\n",
        "*   Unsqueeze - adds a 1 dimension to a target tensor\n",
        "*   Permute - Return a view of the input with dimensions permuted(swapped) in a certain way\n",
        "\n",
        "\n",
        "\n",
        "\n"
      ],
      "metadata": {
        "id": "2FhZu8xKWU1c"
      }
    },
    {
      "cell_type": "code",
      "source": [
        "y= torch.arange(1.,10.)\n",
        "y,y.shape"
      ],
      "metadata": {
        "colab": {
          "base_uri": "https://localhost:8080/"
        },
        "id": "SzVmh4C2Vya7",
        "outputId": "7879b3fd-f46d-4500-e0ab-bfbd99073806"
      },
      "execution_count": 27,
      "outputs": [
        {
          "output_type": "execute_result",
          "data": {
            "text/plain": [
              "(tensor([1., 2., 3., 4., 5., 6., 7., 8., 9.]), torch.Size([9]))"
            ]
          },
          "metadata": {},
          "execution_count": 27
        }
      ]
    },
    {
      "cell_type": "code",
      "source": [
        "#add an extra dimension\n",
        "# 3:04\n",
        "y_reshaped = y.reshape(1,9)"
      ],
      "metadata": {
        "id": "7lXTCnKHX1zt"
      },
      "execution_count": 28,
      "outputs": []
    },
    {
      "cell_type": "code",
      "source": [],
      "metadata": {
        "id": "hkZc3USvYaPQ"
      },
      "execution_count": null,
      "outputs": []
    }
  ]
}